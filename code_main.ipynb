{
 "cells": [
  {
   "cell_type": "code",
   "execution_count": 100,
   "metadata": {},
   "outputs": [],
   "source": [
    "import pandas as pd\n",
    "import numpy as np\n",
    "import matplotlib.pyplot as plt\n",
    "\n",
    "import nltk \n",
    "from nltk.stem import PorterStemmer\n",
    "from nltk.corpus import stopwords\n",
    "stop_words = set(stopwords.words(\"english\"))"
   ]
  },
  {
   "cell_type": "code",
   "execution_count": 101,
   "metadata": {},
   "outputs": [],
   "source": [
    "data = pd.read_csv(\"netflix_reviews.csv\")"
   ]
  },
  {
   "cell_type": "code",
   "execution_count": 102,
   "metadata": {},
   "outputs": [
    {
     "name": "stdout",
     "output_type": "stream",
     "text": [
      "Index(['reviewId', 'userName', 'content', 'score', 'thumbsUpCount',\n",
      "       'reviewCreatedVersion', 'at', 'appVersion'],\n",
      "      dtype='object')\n",
      "(113068, 8)\n"
     ]
    }
   ],
   "source": [
    "print(data.columns)\n",
    "\n",
    "print(data.shape)"
   ]
  },
  {
   "cell_type": "code",
   "execution_count": 103,
   "metadata": {},
   "outputs": [
    {
     "data": {
      "text/html": [
       "<div>\n",
       "<style scoped>\n",
       "    .dataframe tbody tr th:only-of-type {\n",
       "        vertical-align: middle;\n",
       "    }\n",
       "\n",
       "    .dataframe tbody tr th {\n",
       "        vertical-align: top;\n",
       "    }\n",
       "\n",
       "    .dataframe thead th {\n",
       "        text-align: right;\n",
       "    }\n",
       "</style>\n",
       "<table border=\"1\" class=\"dataframe\">\n",
       "  <thead>\n",
       "    <tr style=\"text-align: right;\">\n",
       "      <th></th>\n",
       "      <th>reviewId</th>\n",
       "      <th>userName</th>\n",
       "      <th>content</th>\n",
       "      <th>score</th>\n",
       "      <th>thumbsUpCount</th>\n",
       "      <th>reviewCreatedVersion</th>\n",
       "      <th>at</th>\n",
       "      <th>appVersion</th>\n",
       "    </tr>\n",
       "  </thead>\n",
       "  <tbody>\n",
       "    <tr>\n",
       "      <th>0</th>\n",
       "      <td>efd00499-5e00-49b5-9f32-bc7177ac5ca6</td>\n",
       "      <td>Mikel Magnusson</td>\n",
       "      <td>Netfix Canada forced my wife into a screen tha...</td>\n",
       "      <td>1</td>\n",
       "      <td>0</td>\n",
       "      <td>8.93.1 build 4 50540</td>\n",
       "      <td>2024-06-14 21:47:49</td>\n",
       "      <td>8.93.1 build 4 50540</td>\n",
       "    </tr>\n",
       "    <tr>\n",
       "      <th>1</th>\n",
       "      <td>be0d97e1-7de1-4f07-b493-35a53098b5a4</td>\n",
       "      <td>John McDevitt</td>\n",
       "      <td>I use this app until it asks if I'm still ther...</td>\n",
       "      <td>2</td>\n",
       "      <td>0</td>\n",
       "      <td>8.119.0 build 11 50706</td>\n",
       "      <td>2024-06-14 21:33:01</td>\n",
       "      <td>8.119.0 build 11 50706</td>\n",
       "    </tr>\n",
       "    <tr>\n",
       "      <th>2</th>\n",
       "      <td>8970dbcd-d75f-4016-bb93-efa5de3ef9e6</td>\n",
       "      <td>Mayur Savaliya</td>\n",
       "      <td>Boycott Netflix from Bharat</td>\n",
       "      <td>1</td>\n",
       "      <td>1</td>\n",
       "      <td>8.14.0 build 5 40129</td>\n",
       "      <td>2024-06-14 21:31:07</td>\n",
       "      <td>8.14.0 build 5 40129</td>\n",
       "    </tr>\n",
       "    <tr>\n",
       "      <th>3</th>\n",
       "      <td>a288bc3c-8a90-42d3-b585-1c8078faa96c</td>\n",
       "      <td>Magdalena Glessing</td>\n",
       "      <td>Little good movies and a lot of wonderful TV s...</td>\n",
       "      <td>5</td>\n",
       "      <td>0</td>\n",
       "      <td>8.118.1 build 10 50703</td>\n",
       "      <td>2024-06-14 21:27:26</td>\n",
       "      <td>8.118.1 build 10 50703</td>\n",
       "    </tr>\n",
       "    <tr>\n",
       "      <th>4</th>\n",
       "      <td>c388a806-0795-4812-b04e-5b2cdf327157</td>\n",
       "      <td>Elizabeth Turner</td>\n",
       "      <td>New to this but, so far smooth sailing.app is ...</td>\n",
       "      <td>5</td>\n",
       "      <td>0</td>\n",
       "      <td>8.118.1 build 10 50703</td>\n",
       "      <td>2024-06-14 21:22:13</td>\n",
       "      <td>8.118.1 build 10 50703</td>\n",
       "    </tr>\n",
       "  </tbody>\n",
       "</table>\n",
       "</div>"
      ],
      "text/plain": [
       "                               reviewId            userName  \\\n",
       "0  efd00499-5e00-49b5-9f32-bc7177ac5ca6     Mikel Magnusson   \n",
       "1  be0d97e1-7de1-4f07-b493-35a53098b5a4       John McDevitt   \n",
       "2  8970dbcd-d75f-4016-bb93-efa5de3ef9e6      Mayur Savaliya   \n",
       "3  a288bc3c-8a90-42d3-b585-1c8078faa96c  Magdalena Glessing   \n",
       "4  c388a806-0795-4812-b04e-5b2cdf327157    Elizabeth Turner   \n",
       "\n",
       "                                             content  score  thumbsUpCount  \\\n",
       "0  Netfix Canada forced my wife into a screen tha...      1              0   \n",
       "1  I use this app until it asks if I'm still ther...      2              0   \n",
       "2                        Boycott Netflix from Bharat      1              1   \n",
       "3  Little good movies and a lot of wonderful TV s...      5              0   \n",
       "4  New to this but, so far smooth sailing.app is ...      5              0   \n",
       "\n",
       "     reviewCreatedVersion                   at              appVersion  \n",
       "0    8.93.1 build 4 50540  2024-06-14 21:47:49    8.93.1 build 4 50540  \n",
       "1  8.119.0 build 11 50706  2024-06-14 21:33:01  8.119.0 build 11 50706  \n",
       "2    8.14.0 build 5 40129  2024-06-14 21:31:07    8.14.0 build 5 40129  \n",
       "3  8.118.1 build 10 50703  2024-06-14 21:27:26  8.118.1 build 10 50703  \n",
       "4  8.118.1 build 10 50703  2024-06-14 21:22:13  8.118.1 build 10 50703  "
      ]
     },
     "execution_count": 103,
     "metadata": {},
     "output_type": "execute_result"
    }
   ],
   "source": [
    "data.head()"
   ]
  },
  {
   "cell_type": "code",
   "execution_count": 104,
   "metadata": {},
   "outputs": [
    {
     "data": {
      "text/plain": [
       "reviewId                    0\n",
       "userName                    1\n",
       "content                     2\n",
       "score                       0\n",
       "thumbsUpCount               0\n",
       "reviewCreatedVersion    16491\n",
       "at                          0\n",
       "appVersion              16491\n",
       "dtype: int64"
      ]
     },
     "execution_count": 104,
     "metadata": {},
     "output_type": "execute_result"
    }
   ],
   "source": [
    "data.isnull().sum()\n",
    "#Need to handle null values - shows that where reviewCreatedVersion is Null, app version is Null"
   ]
  },
  {
   "cell_type": "code",
   "execution_count": 105,
   "metadata": {},
   "outputs": [
    {
     "data": {
      "text/html": [
       "<div>\n",
       "<style scoped>\n",
       "    .dataframe tbody tr th:only-of-type {\n",
       "        vertical-align: middle;\n",
       "    }\n",
       "\n",
       "    .dataframe tbody tr th {\n",
       "        vertical-align: top;\n",
       "    }\n",
       "\n",
       "    .dataframe thead th {\n",
       "        text-align: right;\n",
       "    }\n",
       "</style>\n",
       "<table border=\"1\" class=\"dataframe\">\n",
       "  <thead>\n",
       "    <tr style=\"text-align: right;\">\n",
       "      <th></th>\n",
       "      <th>reviewId</th>\n",
       "      <th>userName</th>\n",
       "      <th>content</th>\n",
       "      <th>score</th>\n",
       "      <th>thumbsUpCount</th>\n",
       "      <th>reviewCreatedVersion</th>\n",
       "      <th>at</th>\n",
       "      <th>appVersion</th>\n",
       "    </tr>\n",
       "  </thead>\n",
       "  <tbody>\n",
       "    <tr>\n",
       "      <th>3384</th>\n",
       "      <td>a73c931f-5cce-4863-b1ae-40101455f137</td>\n",
       "      <td>Maria Wiley</td>\n",
       "      <td>NaN</td>\n",
       "      <td>5</td>\n",
       "      <td>0</td>\n",
       "      <td>8.114.0 build 19 50680</td>\n",
       "      <td>2024-05-21 16:56:29</td>\n",
       "      <td>8.114.0 build 19 50680</td>\n",
       "    </tr>\n",
       "    <tr>\n",
       "      <th>3735</th>\n",
       "      <td>839d55ed-ba9e-4753-a178-5799b9f86ffc</td>\n",
       "      <td>Myris Guilanda</td>\n",
       "      <td>NaN</td>\n",
       "      <td>2</td>\n",
       "      <td>0</td>\n",
       "      <td>NaN</td>\n",
       "      <td>2024-05-19 13:52:42</td>\n",
       "      <td>NaN</td>\n",
       "    </tr>\n",
       "  </tbody>\n",
       "</table>\n",
       "</div>"
      ],
      "text/plain": [
       "                                  reviewId        userName content  score  \\\n",
       "3384  a73c931f-5cce-4863-b1ae-40101455f137     Maria Wiley     NaN      5   \n",
       "3735  839d55ed-ba9e-4753-a178-5799b9f86ffc  Myris Guilanda     NaN      2   \n",
       "\n",
       "      thumbsUpCount    reviewCreatedVersion                   at  \\\n",
       "3384              0  8.114.0 build 19 50680  2024-05-21 16:56:29   \n",
       "3735              0                     NaN  2024-05-19 13:52:42   \n",
       "\n",
       "                  appVersion  \n",
       "3384  8.114.0 build 19 50680  \n",
       "3735                     NaN  "
      ]
     },
     "execution_count": 105,
     "metadata": {},
     "output_type": "execute_result"
    }
   ],
   "source": [
    "data[data[\"content\"].isna() == True ]"
   ]
  },
  {
   "cell_type": "code",
   "execution_count": 106,
   "metadata": {},
   "outputs": [
    {
     "data": {
      "text/html": [
       "<div>\n",
       "<style scoped>\n",
       "    .dataframe tbody tr th:only-of-type {\n",
       "        vertical-align: middle;\n",
       "    }\n",
       "\n",
       "    .dataframe tbody tr th {\n",
       "        vertical-align: top;\n",
       "    }\n",
       "\n",
       "    .dataframe thead th {\n",
       "        text-align: right;\n",
       "    }\n",
       "</style>\n",
       "<table border=\"1\" class=\"dataframe\">\n",
       "  <thead>\n",
       "    <tr style=\"text-align: right;\">\n",
       "      <th></th>\n",
       "      <th>reviewId</th>\n",
       "      <th>userName</th>\n",
       "      <th>content</th>\n",
       "      <th>score</th>\n",
       "      <th>thumbsUpCount</th>\n",
       "      <th>reviewCreatedVersion</th>\n",
       "      <th>at</th>\n",
       "      <th>appVersion</th>\n",
       "    </tr>\n",
       "  </thead>\n",
       "  <tbody>\n",
       "  </tbody>\n",
       "</table>\n",
       "</div>"
      ],
      "text/plain": [
       "Empty DataFrame\n",
       "Columns: [reviewId, userName, content, score, thumbsUpCount, reviewCreatedVersion, at, appVersion]\n",
       "Index: []"
      ]
     },
     "execution_count": 106,
     "metadata": {},
     "output_type": "execute_result"
    }
   ],
   "source": [
    "data = data.dropna(subset=[\"content\"])\n",
    "#Check deletion\n",
    "data[data[\"content\"].isna() == True ]"
   ]
  },
  {
   "cell_type": "code",
   "execution_count": 107,
   "metadata": {},
   "outputs": [],
   "source": [
    "#now remove columns that dont affect the final result - hence all except content and score\n",
    "cols = ['reviewId', 'userName', 'thumbsUpCount',\n",
    "       'reviewCreatedVersion', 'at', 'appVersion']\n",
    "data = data.drop(cols,axis=1)"
   ]
  },
  {
   "cell_type": "code",
   "execution_count": 108,
   "metadata": {},
   "outputs": [
    {
     "name": "stdout",
     "output_type": "stream",
     "text": [
      "4\n",
      "4\n"
     ]
    }
   ],
   "source": [
    "data[\"length\"] = data[\"content\"].apply(len)\n",
    "#random check\n",
    "print(len(data[\"content\"][10]))\n",
    "print(data[\"length\"][10])"
   ]
  },
  {
   "cell_type": "code",
   "execution_count": 109,
   "metadata": {},
   "outputs": [
    {
     "data": {
      "image/png": "[encoded data removed]",
      "text/plain": [
       "<Figure size 640x480 with 1 Axes>"
      ]
     },
     "metadata": {},
     "output_type": "display_data"
    }
   ],
   "source": [
    "#analyse the score column\n",
    "data[\"score\"].value_counts().plot.bar(color=\"red\")\n",
    "plt.show()"
   ]
  },
  {
   "cell_type": "code",
   "execution_count": 110,
   "metadata": {},
   "outputs": [
    {
     "data": {
      "text/plain": [
       "1    44343\n",
       "5    32176\n",
       "4    13853\n",
       "3    11933\n",
       "2    10761\n",
       "Name: score, dtype: int64"
      ]
     },
     "execution_count": 110,
     "metadata": {},
     "output_type": "execute_result"
    }
   ],
   "source": [
    "data[\"score\"].value_counts()"
   ]
  },
  {
   "cell_type": "code",
   "execution_count": 111,
   "metadata": {},
   "outputs": [
    {
     "data": {
      "text/plain": [
       "1    57962\n",
       "0    55104\n",
       "Name: sentiment, dtype: int64"
      ]
     },
     "execution_count": 111,
     "metadata": {},
     "output_type": "execute_result"
    }
   ],
   "source": [
    "data[\"sentiment\"] = [0 if x == 1 or x == 2 else 1 for x in data[\"score\"]]\n",
    "data[\"sentiment\"].value_counts()"
   ]
  },
  {
   "cell_type": "code",
   "execution_count": 112,
   "metadata": {},
   "outputs": [],
   "source": [
    "import re\n",
    "corpus=[]\n",
    "stemmer = PorterStemmer()\n",
    "#print(data.shape[0])\n",
    "for i in range(0,data.shape[0]):\n",
    "    review = re.sub('[^a-zA-Z]',\" \",data.iloc[i][\"content\"])\n",
    "    review = review.lower().split()\n",
    "    review = [stemmer.stem(word) for word in review if word not in stop_words]\n",
    "    review = \" \".join(review)\n",
    "    corpus.append(review)"
   ]
  },
  {
   "cell_type": "code",
   "execution_count": 113,
   "metadata": {},
   "outputs": [
    {
     "data": {
      "text/plain": [
       "count    113066.000000\n",
       "mean        157.694957\n",
       "std         111.893310\n",
       "min           1.000000\n",
       "25%          84.000000\n",
       "50%         124.000000\n",
       "75%         195.000000\n",
       "max        1752.000000\n",
       "Name: length, dtype: float64"
      ]
     },
     "execution_count": 113,
     "metadata": {},
     "output_type": "execute_result"
    }
   ],
   "source": [
    "data[\"length\"].describe()"
   ]
  },
  {
   "cell_type": "code",
   "execution_count": 114,
   "metadata": {},
   "outputs": [],
   "source": [
    "X = corpus\n",
    "y = data[\"sentiment\"].tolist()"
   ]
  },
  {
   "cell_type": "code",
   "execution_count": 115,
   "metadata": {},
   "outputs": [],
   "source": [
    "from sklearn.model_selection import train_test_split\n",
    "X_train,X_test,y_train,y_test = train_test_split(X,y,test_size=0.3,random_state=11)"
   ]
  },
  {
   "cell_type": "code",
   "execution_count": 116,
   "metadata": {},
   "outputs": [],
   "source": [
    "from numpy import array\n",
    "\n",
    "from keras.preprocessing.text import one_hot,Tokenizer\n",
    "from keras.preprocessing.sequence import pad_sequences\n",
    "\n",
    "\n"
   ]
  },
  {
   "cell_type": "code",
   "execution_count": 117,
   "metadata": {},
   "outputs": [],
   "source": [
    "num_words = 50000\n",
    "\n",
    "tokenizer = Tokenizer(num_words=num_words,oov_token=\"unk\")\n",
    "tokenizer.fit_on_texts(X_train)\n",
    "\n"
   ]
  },
  {
   "cell_type": "code",
   "execution_count": 118,
   "metadata": {},
   "outputs": [],
   "source": [
    "X_train_seq = tokenizer.texts_to_sequences(X_train)\n",
    "X_test_seq = tokenizer.texts_to_sequences(X_test)"
   ]
  },
  {
   "cell_type": "code",
   "execution_count": 119,
   "metadata": {},
   "outputs": [],
   "source": [
    "X_train_seq = np.array(X_train_seq,dtype=\"object\")\n",
    "X_test_seq = np.array(X_test_seq,dtype=\"object\")\n"
   ]
  },
  {
   "cell_type": "code",
   "execution_count": 120,
   "metadata": {},
   "outputs": [],
   "source": [
    "X_train_seq = pad_sequences(X_train_seq,padding=\"post\",maxlen=100)\n",
    "X_test_seq = pad_sequences(X_test_seq,padding=\"post\",maxlen=100)"
   ]
  },
  {
   "cell_type": "code",
   "execution_count": 121,
   "metadata": {},
   "outputs": [],
   "source": [
    "train_labels = np.asarray(y_train)\n",
    "test_labels = np.asarray(y_test)"
   ]
  },
  {
   "cell_type": "code",
   "execution_count": null,
   "metadata": {},
   "outputs": [],
   "source": []
  },
  {
   "cell_type": "code",
   "execution_count": 122,
   "metadata": {},
   "outputs": [],
   "source": [
    "import tensorflow as tf\n",
    "from keras import regularizers,layers,losses\n",
    "from keras.models import Sequential\n",
    "from keras.layers import Activation,Dense,Dropout,Flatten,Conv1D,LSTM,GlobalMaxPool1D,Embedding\n",
    "\n",
    "\n",
    "train_ds = tf.data.Dataset.from_tensor_slices((X_train_seq,train_labels))\n",
    "test_ds = tf.data.Dataset.from_tensor_slices((X_test_seq,test_labels))"
   ]
  },
  {
   "cell_type": "code",
   "execution_count": 123,
   "metadata": {},
   "outputs": [
    {
     "data": {
      "text/plain": [
       "array([3997, 1409,  746,  232,   66,  833,  630,    5,   21,  172,   18,\n",
       "         21,   27, 1237, 5556,    0,    0,    0,    0,    0,    0,    0,\n",
       "          0,    0,    0,    0,    0,    0,    0,    0,    0,    0,    0,\n",
       "          0,    0,    0,    0,    0,    0,    0,    0,    0,    0,    0,\n",
       "          0,    0,    0,    0,    0,    0,    0,    0,    0,    0,    0,\n",
       "          0,    0,    0,    0,    0,    0,    0,    0,    0,    0,    0,\n",
       "          0,    0,    0,    0,    0,    0,    0,    0,    0,    0,    0,\n",
       "          0,    0,    0,    0,    0,    0,    0,    0,    0,    0,    0,\n",
       "          0,    0,    0,    0,    0,    0,    0,    0,    0,    0,    0,\n",
       "          0])"
      ]
     },
     "execution_count": 123,
     "metadata": {},
     "output_type": "execute_result"
    }
   ],
   "source": [
    "X_train_seq[8]"
   ]
  },
  {
   "cell_type": "code",
   "execution_count": 128,
   "metadata": {},
   "outputs": [
    {
     "name": "stdout",
     "output_type": "stream",
     "text": [
      "Model: \"sequential_2\"\n",
      "_________________________________________________________________\n",
      " Layer (type)                Output Shape              Param #   \n",
      "=================================================================\n",
      " embedding_2 (Embedding)     (None, 100, 16)           400016    \n",
      "                                                                 \n",
      " dropout_6 (Dropout)         (None, 100, 16)           0         \n",
      "                                                                 \n",
      " lstm_2 (LSTM)               (None, 100, 16)           2112      \n",
      "                                                                 \n",
      " flatten_2 (Flatten)         (None, 1600)              0         \n",
      "                                                                 \n",
      " dense_6 (Dense)             (None, 512)               819712    \n",
      "                                                                 \n",
      " dropout_7 (Dropout)         (None, 512)               0         \n",
      "                                                                 \n",
      " dense_7 (Dense)             (None, 8)                 4104      \n",
      "                                                                 \n",
      " dropout_8 (Dropout)         (None, 8)                 0         \n",
      "                                                                 \n",
      " dense_8 (Dense)             (None, 1)                 9         \n",
      "                                                                 \n",
      "=================================================================\n",
      "Total params: 1225953 (4.68 MB)\n",
      "Trainable params: 1225953 (4.68 MB)\n",
      "Non-trainable params: 0 (0.00 Byte)\n",
      "_________________________________________________________________\n"
     ]
    }
   ],
   "source": [
    "max_features = 25000\n",
    "embedding_dim = 16\n",
    "seq_lenth = 100\n",
    "\n",
    "model = tf.keras.Sequential()\n",
    "model.add(Embedding(max_features+1,embedding_dim,input_length=seq_lenth))\n",
    "model.add(Dropout(0.4))\n",
    "model.add(LSTM(embedding_dim,dropout=0.2,recurrent_dropout=0.2,return_sequences=True))\n",
    "model.add(Flatten())\n",
    "model.add(Dense(512,activation=\"relu\"))\n",
    "model.add(Dropout(0.4))\n",
    "model.add(Dense(8,activation=\"relu\"))\n",
    "model.add(Dropout(0.4))\n",
    "model.add(Dense(1,activation=\"sigmoid\"))\n",
    "\n",
    "model.summary()"
   ]
  },
  {
   "cell_type": "code",
   "execution_count": 129,
   "metadata": {},
   "outputs": [],
   "source": [
    "model.compile(loss=losses.BinaryCrossentropy(),optimizer=\"Adam\",metrics=[\"accuracy\"])"
   ]
  },
  {
   "cell_type": "code",
   "execution_count": 130,
   "metadata": {},
   "outputs": [
    {
     "data": {
      "text/plain": [
       "<_TensorSliceDataset element_spec=(TensorSpec(shape=(100,), dtype=tf.int32, name=None), TensorSpec(shape=(), dtype=tf.int32, name=None))>"
      ]
     },
     "execution_count": 130,
     "metadata": {},
     "output_type": "execute_result"
    }
   ],
   "source": [
    "train_ds"
   ]
  },
  {
   "cell_type": "code",
   "execution_count": 131,
   "metadata": {},
   "outputs": [
    {
     "name": "stdout",
     "output_type": "stream",
     "text": [
      "Epoch 1/10\n",
      "78/78 [==============================] - 32s 334ms/step - loss: 0.5325 - accuracy: 0.7326 - val_loss: 0.3881 - val_accuracy: 0.8345\n",
      "Epoch 2/10\n",
      "78/78 [==============================] - 27s 349ms/step - loss: 0.4142 - accuracy: 0.8253 - val_loss: 0.3654 - val_accuracy: 0.8414\n",
      "Epoch 3/10\n",
      "78/78 [==============================] - 28s 363ms/step - loss: 0.3904 - accuracy: 0.8365 - val_loss: 0.3642 - val_accuracy: 0.8390\n",
      "Epoch 4/10\n",
      "78/78 [==============================] - 29s 366ms/step - loss: 0.3795 - accuracy: 0.8405 - val_loss: 0.3629 - val_accuracy: 0.8417\n",
      "Epoch 5/10\n",
      "78/78 [==============================] - 29s 365ms/step - loss: 0.3686 - accuracy: 0.8464 - val_loss: 0.3609 - val_accuracy: 0.8416\n",
      "Epoch 6/10\n",
      "78/78 [==============================] - 28s 364ms/step - loss: 0.3599 - accuracy: 0.8481 - val_loss: 0.3631 - val_accuracy: 0.8417\n",
      "Epoch 7/10\n",
      "78/78 [==============================] - 29s 375ms/step - loss: 0.3523 - accuracy: 0.8522 - val_loss: 0.3664 - val_accuracy: 0.8411\n",
      "Epoch 8/10\n",
      "78/78 [==============================] - 28s 364ms/step - loss: 0.3439 - accuracy: 0.8552 - val_loss: 0.3724 - val_accuracy: 0.8394\n",
      "Epoch 9/10\n",
      "78/78 [==============================] - 28s 364ms/step - loss: 0.3392 - accuracy: 0.8575 - val_loss: 0.3748 - val_accuracy: 0.8390\n",
      "Epoch 10/10\n",
      "78/78 [==============================] - 29s 368ms/step - loss: 0.3316 - accuracy: 0.8591 - val_loss: 0.3800 - val_accuracy: 0.8379\n"
     ]
    }
   ],
   "source": [
    "history = model.fit(train_ds.shuffle(5000).batch(1024),validation_data=test_ds.batch(1024),epochs=10,verbose=1)"
   ]
  },
  {
   "cell_type": "code",
   "execution_count": 132,
   "metadata": {},
   "outputs": [
    {
     "name": "stdout",
     "output_type": "stream",
     "text": [
      "['face lot issu app load necessari video need less select choic compar app app bad hate']\n"
     ]
    }
   ],
   "source": [
    "text = \"\"\"I have faced a lot of issues with this app, it does not load the necessary videos when needed and very less selection choices as compared to other apps. This app is very bad and Hate it\n",
    "\"\"\"\n",
    "\n",
    "input=[]\n",
    "stemmer = PorterStemmer()\n",
    "#print(data.shape[0])\n",
    "review = re.sub('[^a-zA-Z]',\" \",text)\n",
    "review = review.lower().split()\n",
    "review = [stemmer.stem(word) for word in review if word not in stop_words]\n",
    "review = \" \".join(review)\n",
    "input.append(review)\n",
    "\n",
    "print(input)"
   ]
  },
  {
   "cell_type": "code",
   "execution_count": 133,
   "metadata": {},
   "outputs": [],
   "source": [
    "input = tokenizer.texts_to_sequences(input)"
   ]
  },
  {
   "cell_type": "code",
   "execution_count": 134,
   "metadata": {},
   "outputs": [],
   "source": [
    "input = np.array(input,dtype=\"int\")"
   ]
  },
  {
   "cell_type": "code",
   "execution_count": 135,
   "metadata": {},
   "outputs": [],
   "source": [
    "input = pad_sequences(input,padding=\"post\",maxlen=100)"
   ]
  },
  {
   "cell_type": "code",
   "execution_count": 136,
   "metadata": {},
   "outputs": [
    {
     "name": "stdout",
     "output_type": "stream",
     "text": [
      "1/1 [==============================] - 1s 582ms/step\n"
     ]
    }
   ],
   "source": [
    "x = model.predict(input)"
   ]
  },
  {
   "cell_type": "code",
   "execution_count": 137,
   "metadata": {},
   "outputs": [
    {
     "data": {
      "text/plain": [
       "array([0.31179324], dtype=float32)"
      ]
     },
     "execution_count": 137,
     "metadata": {},
     "output_type": "execute_result"
    }
   ],
   "source": [
    "x[0]"
   ]
  },
  {
   "cell_type": "code",
   "execution_count": 138,
   "metadata": {},
   "outputs": [
    {
     "name": "stdout",
     "output_type": "stream",
     "text": [
      "Bad review\n"
     ]
    }
   ],
   "source": [
    "if x[0] > 0.7 :\n",
    "    print(\"Good review\")\n",
    "else:\n",
    "    print(\"Bad review\")"
   ]
  },
  {
   "cell_type": "code",
   "execution_count": null,
   "metadata": {},
   "outputs": [],
   "source": []
  }
 ],
 "metadata": {
  "kernelspec": {
   "display_name": "Python 3",
   "language": "python",
   "name": "python3"
  },
  "language_info": {
   "codemirror_mode": {
    "name": "ipython",
    "version": 3
   },
   "file_extension": ".py",
   "mimetype": "text/x-python",
   "name": "python",
   "nbconvert_exporter": "python",
   "pygments_lexer": "ipython3",
   "version": "3.10.5"
  }
 },
 "nbformat": 4,
 "nbformat_minor": 2
}
